{
  "cells": [
    {
      "cell_type": "markdown",
      "metadata": {
        "id": "6X-VgOsgWTdW"
      },
      "source": [
        "# **Imports**\n",
        "\n",
        "Esse bloco importa as bibliotecas que serão usadas para carregar, treinar e avaliar o modelo SVM, além de definir uma semente (RANDOM_STATE) para garantir resultados reproduzíveis."
      ]
    },
    {
      "cell_type": "code",
      "execution_count": 1,
      "metadata": {
        "id": "9miQHW6USvpT"
      },
      "outputs": [],
      "source": [
        "# Importa bibliotecas\n",
        "import pandas as pd\n",
        "import numpy as np\n",
        "import matplotlib.pyplot as plt\n",
        "\n",
        "from sklearn.model_selection import (\n",
        "    KFold, StratifiedShuffleSplit, GridSearchCV, cross_val_score\n",
        ")\n",
        "from sklearn.svm import SVC\n",
        "from sklearn.preprocessing import StandardScaler\n",
        "from sklearn.pipeline import Pipeline\n",
        "from sklearn.metrics import accuracy_score, confusion_matrix, ConfusionMatrixDisplay, classification_report\n",
        "\n",
        "# Define semente para resultados reproduzíveis\n",
        "RANDOM_STATE = 42"
      ]
    },
    {
      "cell_type": "markdown",
      "metadata": {
        "id": "y1Yp2yqcWZtD"
      },
      "source": [
        "# **Carregando Dataset**\n",
        "\n",
        "Esse bloco carrega o dataset de diabetes diretamente de um link, define os nomes das colunas e separa os atributos (X) da variável alvo (y). No final, mostra o tamanho do conjunto de dados e a distribuição das classes."
      ]
    },
    {
      "cell_type": "code",
      "execution_count": 2,
      "metadata": {
        "colab": {
          "base_uri": "https://localhost:8080/"
        },
        "id": "69v0fJ5eWc1d",
        "outputId": "69de1b69-0857-4839-ee80-c8a3fc5042d7"
      },
      "outputs": [
        {
          "name": "stdout",
          "output_type": "stream",
          "text": [
            "Shape do dataset: (768, 8)\n",
            "Distribuição de classes: [500 268]\n"
          ]
        }
      ],
      "source": [
        "columns = [\n",
        "    \"Pregnancies\", \"Glucose\", \"BloodPressure\", \"SkinThickness\",\n",
        "    \"Insulin\", \"BMI\", \"DiabetesPedigreeFunction\", \"Age\", \"Outcome\"\n",
        "]\n",
        "\n",
        "# Lê o CSV da internet\n",
        "url = \"https://raw.githubusercontent.com/jbrownlee/Datasets/master/pima-indians-diabetes.data.csv\"\n",
        "data = pd.read_csv(url, names=columns)\n",
        "\n",
        "# Separa os atributos (X) da variável alvo (y)\n",
        "X = data.drop(\"Outcome\", axis=1)\n",
        "y = data[\"Outcome\"]\n",
        "\n",
        "# Mostra o tamanho do dataset e a distribuição das classes\n",
        "print(\"Shape do dataset:\", X.shape)\n",
        "print(\"Distribuição de classes:\", np.bincount(y))"
      ]
    },
    {
      "cell_type": "markdown",
      "metadata": {
        "id": "GNIFs-nzWhGz"
      },
      "source": [
        "# **Pré-processamento**\n",
        "\n",
        "Esse bloco trata valores faltantes do dataset. Ele substitui os zeros (que não fazem sentido em variáveis como glicose ou pressão) por NaN e depois preenche esses espaços com a média de cada coluna."
      ]
    },
    {
      "cell_type": "code",
      "execution_count": 3,
      "metadata": {
        "id": "FX4KbxBMWk6j"
      },
      "outputs": [],
      "source": [
        "features_with_missing = [\"Glucose\", \"BloodPressure\", \"SkinThickness\", \"Insulin\", \"BMI\"]\n",
        "\n",
        "# Substitui zeros por NaN e preenche com a média da coluna\n",
        "for col in features_with_missing:\n",
        "    X[col] = X[col].replace(0, np.nan)\n",
        "    X[col] = X[col].fillna(X[col].mean())\n"
      ]
    },
    {
      "cell_type": "markdown",
      "metadata": {
        "id": "DbacLC6iWq8t"
      },
      "source": [
        "# **Pipeline SVM**\n",
        "\n",
        "Esse bloco cria um pipeline que primeiro padroniza os dados com o StandardScaler e depois aplica o classificador SVM. Em seguida, define a grade de parâmetros (param_grid) que será testada no GridSearchCV, variando o kernel, o valor de C e, no caso do RBF, também o gamma."
      ]
    },
    {
      "cell_type": "code",
      "execution_count": 4,
      "metadata": {
        "id": "CKUWVnQFWtL1"
      },
      "outputs": [],
      "source": [
        "# Cria o pipeline com padronização e SVM\n",
        "pipe = Pipeline([\n",
        "    (\"scaler\", StandardScaler()),\n",
        "    (\"svc\", SVC(random_state=RANDOM_STATE))\n",
        "])\n",
        "\n",
        "# Define a grade de parâmetros para o GridSearchCV\n",
        "param_grid = [\n",
        "    {\"svc__kernel\": [\"linear\"], \"svc__C\": [0.01, 0.1, 1, 10, 100]},\n",
        "    {\"svc__kernel\": [\"rbf\"], \"svc__C\": [0.01, 0.1, 1, 10, 100], \"svc__gamma\": [\"scale\", 0.01, 0.001]}\n",
        "]"
      ]
    },
    {
      "cell_type": "markdown",
      "metadata": {
        "id": "gzlPzM5eWwRj"
      },
      "source": [
        "# **Validação: Kfold-10**\n",
        "\n",
        "Esse bloco aplica a validação cruzada usando KFold com 10 divisões. Ele usa o GridSearchCV para encontrar os melhores hiperparâmetros do SVM, calcula a acurácia média e o desvio padrão, e exibe uma matriz de confusão e um relatório de classificação."
      ]
    },
    {
      "cell_type": "code",
      "execution_count": 5,
      "metadata": {
        "colab": {
          "base_uri": "https://localhost:8080/",
          "height": 732
        },
        "id": "7wCZDS2gW0kb",
        "outputId": "eb9b5c46-3d0f-45e6-da7d-1f77419eb5c4"
      },
      "outputs": [
        {
          "name": "stdout",
          "output_type": "stream",
          "text": [
            "\n",
            "===== KFold-10 =====\n",
            "Melhores parâmetros: {'svc__C': 100, 'svc__gamma': 0.001, 'svc__kernel': 'rbf'}\n",
            "Acurácia média: 0.7656 ± 0.0486\n"
          ]
        },
        {
          "data": {
            "image/png": "[encoded data removed]",
            "text/plain": [
              "<Figure size 640x480 with 2 Axes>"
            ]
          },
          "metadata": {},
          "output_type": "display_data"
        },
        {
          "name": "stdout",
          "output_type": "stream",
          "text": [
            "\n",
            "Relatório de classificação (KFold-10 exemplo):\n",
            "              precision    recall  f1-score   support\n",
            "\n",
            " No Diabetes       0.81      0.84      0.82        50\n",
            "    Diabetes       0.68      0.63      0.65        27\n",
            "\n",
            "    accuracy                           0.77        77\n",
            "   macro avg       0.74      0.73      0.74        77\n",
            "weighted avg       0.76      0.77      0.76        77\n",
            "\n"
          ]
        }
      ],
      "source": [
        "# Cria KFold com 10 divisões e embaralhamento\n",
        "kf = KFold(n_splits=10, shuffle=True, random_state=RANDOM_STATE)\n",
        "\n",
        "# Executa GridSearchCV usando KFold\n",
        "gs_kf = GridSearchCV(pipe, param_grid, cv=kf, n_jobs=-1)\n",
        "gs_kf.fit(X, y)\n",
        "\n",
        "# Mostra resultados do GridSearchCV\n",
        "print(\"\\n===== KFold-10 =====\")\n",
        "print(\"Melhores parâmetros:\", gs_kf.best_params_)\n",
        "\n",
        "# Calcula acurácia média e desvio padrão usando cross-validation\n",
        "scores_kf = cross_val_score(gs_kf.best_estimator_, X, y, cv=kf, n_jobs=-1)\n",
        "print(f\"Acurácia média: {scores_kf.mean():.4f} ± {scores_kf.std():.4f}\")\n",
        "\n",
        "# Seleciona o primeiro fold para exemplo de matriz de confusão\n",
        "for train_idx, test_idx in kf.split(X, y):\n",
        "    X_train, X_test = X.iloc[train_idx], X.iloc[test_idx]\n",
        "    y_train, y_test = y.iloc[train_idx], y.iloc[test_idx]\n",
        "    model = gs_kf.best_estimator_\n",
        "    model.fit(X_train, y_train)\n",
        "    y_pred = model.predict(X_test)\n",
        "    break\n",
        "\n",
        "# Plota a matriz de confusão do primeiro fold\n",
        "ConfusionMatrixDisplay.from_predictions(\n",
        "    y_test, y_pred, display_labels=[\"No Diabetes\", \"Diabetes\"]\n",
        ")\n",
        "plt.title(\"Matriz de Confusão (KFold-10)\")\n",
        "plt.show()\n",
        "\n",
        "# Mostra relatório de classificação do primeiro fold\n",
        "print(\"\\nRelatório de classificação (KFold-10 exemplo):\")\n",
        "print(classification_report(y_test, y_pred, target_names=[\"No Diabetes\", \"Diabetes\"]))\n"
      ]
    },
    {
      "cell_type": "markdown",
      "metadata": {
        "id": "M1k2TWTpW5jZ"
      },
      "source": [
        "# **Validação: StratifiedShuffleSplit (30%, n=10)**\n",
        "\n",
        "Esse bloco aplica a validação cruzada com StratifiedShuffleSplit (10 divisões, 30% para teste). Ele usa o GridSearchCV para buscar os melhores hiperparâmetros do SVM, calcula a acurácia média com desvio padrão e exibe uma matriz de confusão e um relatório de classificação de uma das divisões como exemplo."
      ]
    },
    {
      "cell_type": "code",
      "execution_count": 6,
      "metadata": {
        "colab": {
          "base_uri": "https://localhost:8080/",
          "height": 732
        },
        "id": "Pwl9ux8GW-yf",
        "outputId": "6b901edc-60a5-4fa5-9337-4d498ecc3e3f"
      },
      "outputs": [
        {
          "name": "stdout",
          "output_type": "stream",
          "text": [
            "\n",
            "===== StratifiedShuffleSplit (30%, n=10) =====\n",
            "Melhores parâmetros: {'svc__C': 0.01, 'svc__kernel': 'linear'}\n",
            "Acurácia média: 0.7576 ± 0.0233\n"
          ]
        },
        {
          "data": {
            "image/png": "[encoded data removed]",
            "text/plain": [
              "<Figure size 640x480 with 2 Axes>"
            ]
          },
          "metadata": {},
          "output_type": "display_data"
        },
        {
          "name": "stdout",
          "output_type": "stream",
          "text": [
            "\n",
            "Relatório de classificação (StratifiedShuffleSplit exemplo):\n",
            "              precision    recall  f1-score   support\n",
            "\n",
            " No Diabetes       0.76      0.89      0.82       150\n",
            "    Diabetes       0.69      0.47      0.56        81\n",
            "\n",
            "    accuracy                           0.74       231\n",
            "   macro avg       0.72      0.68      0.69       231\n",
            "weighted avg       0.73      0.74      0.73       231\n",
            "\n"
          ]
        }
      ],
      "source": [
        "# Cria StratifiedShuffleSplit com 10 divisões e 30% para teste\n",
        "sss = StratifiedShuffleSplit(n_splits=10, test_size=0.3, random_state=RANDOM_STATE)\n",
        "\n",
        "# Executa GridSearchCV usando StratifiedShuffleSplit\n",
        "gs_sss = GridSearchCV(pipe, param_grid, cv=sss, n_jobs=-1)\n",
        "gs_sss.fit(X, y)\n",
        "\n",
        "# Mostra resultados do GridSearchCV\n",
        "print(\"\\n===== StratifiedShuffleSplit (30%, n=10) =====\")\n",
        "print(\"Melhores parâmetros:\", gs_sss.best_params_)\n",
        "\n",
        "# Calcula acurácia média e desvio padrão usando cross-validation\n",
        "scores_sss = cross_val_score(gs_sss.best_estimator_, X, y, cv=sss, n_jobs=-1)\n",
        "print(f\"Acurácia média: {scores_sss.mean():.4f} ± {scores_sss.std():.4f}\")\n",
        "\n",
        "# Seleciona o primeiro split para exemplo de matriz de confusão\n",
        "for train_idx, test_idx in sss.split(X, y):\n",
        "    X_train, X_test = X.iloc[train_idx], X.iloc[test_idx]\n",
        "    y_train, y_test = y.iloc[train_idx], y.iloc[test_idx]\n",
        "    model = gs_sss.best_estimator_\n",
        "    model.fit(X_train, y_train)\n",
        "    y_pred = model.predict(X_test)\n",
        "    break\n",
        "\n",
        "# Plota a matriz de confusão do primeiro split\n",
        "ConfusionMatrixDisplay.from_predictions(\n",
        "    y_test, y_pred, display_labels=[\"No Diabetes\", \"Diabetes\"]\n",
        ")\n",
        "plt.title(\"Matriz de Confusão (StratifiedShuffleSplit)\")\n",
        "plt.show()\n",
        "\n",
        "# Mostra relatório de classificação do primeiro split\n",
        "print(\"\\nRelatório de classificação (StratifiedShuffleSplit exemplo):\")\n",
        "print(classification_report(y_test, y_pred, target_names=[\"No Diabetes\", \"Diabetes\"]))"
      ]
    }
  ],
  "metadata": {
    "colab": {
      "provenance": []
    },
    "kernelspec": {
      "display_name": "06-inteligencia-artificial-n1sNXYNe",
      "language": "python",
      "name": "python3"
    },
    "language_info": {
      "codemirror_mode": {
        "name": "ipython",
        "version": 3
      },
      "file_extension": ".py",
      "mimetype": "text/x-python",
      "name": "python",
      "nbconvert_exporter": "python",
      "pygments_lexer": "ipython3",
      "version": "3.11.0"
    }
  },
  "nbformat": 4,
  "nbformat_minor": 0
}
